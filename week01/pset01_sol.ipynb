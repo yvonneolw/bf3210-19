{
 "cells": [
  {
   "cell_type": "markdown",
   "metadata": {},
   "source": [
    "The following are sample solutions to Problem Set 01. Note that there is more than one correct solution to most problems."
   ]
  },
  {
   "cell_type": "markdown",
   "metadata": {},
   "source": [
    "## Problem 1\n",
    "\n",
    "Write a program that generates the Fibonacci series in as few steps as possible, with the help of no external modules."
   ]
  },
  {
   "cell_type": "code",
   "execution_count": null,
   "metadata": {},
   "outputs": [],
   "source": [
    "# Solution to Problem 1\n",
    "n = int(input(\"How many terms?\"))\n",
    "i = 0\n",
    "prev = 1\n",
    "curr = 1\n",
    "ans = 1\n",
    "while i < n:\n",
    "    print(curr)\n",
    "    if i > 0:\n",
    "        ans = curr + prev\n",
    "        prev = curr\n",
    "        curr = ans\n",
    "    i += 1\n"
   ]
  },
  {
   "cell_type": "markdown",
   "metadata": {},
   "source": [
    "## Problem 2\n",
    "\n",
    "Implement [De Morgan's Laws](https://en.wikipedia.org/wiki/De_Morgan%27s_laws) in Python code, and verify that they hold true."
   ]
  },
  {
   "cell_type": "code",
   "execution_count": null,
   "metadata": {},
   "outputs": [],
   "source": [
    "# Solution to Problem 2\n",
    "print(\"Testing for rule: (not(A or B)) == (not A) and (not B)\")\n",
    "print((not(True or True)) == ((not True) and (not True)))\n",
    "print((not(True or False)) == ((not True) and (not False)))\n",
    "print((not(False or True)) == ((not False) and (not True)))\n",
    "print((not(False or False)) == ((not False) and (not False)))\n",
    "\n",
    "print(\"\\nTesting for rule: (not(A and B)) == (not A) or (not B)\")\n",
    "print((not(True and True)) == ((not True) or (not True)))\n",
    "print((not(True and False)) == ((not True) or (not False)))\n",
    "print((not(False and True)) == ((not False) or (not True)))\n",
    "print((not(False and False)) == ((not False) or (not False)))"
   ]
  },
  {
   "cell_type": "markdown",
   "metadata": {},
   "source": [
    "## Problem 3\n",
    "\n",
    "Implement a simple chatbot program that asks the user for their name, age, and nationality, and then introduces (or `print`s the given information of) that user."
   ]
  },
  {
   "cell_type": "code",
   "execution_count": null,
   "metadata": {},
   "outputs": [],
   "source": [
    "# Solution to Problem 3\n",
    "print(\"Hello there!\")\n",
    "name = input(\"What is your name?\")\n",
    "age = input(\"What is your age?\")\n",
    "nationality = input(\"What is your nationality?\")\n",
    "\n",
    "greeting = \"Nice to meet you, {}! You are a {} {}-year-old!\".format(name, nationality, age)\n",
    "print(greeting)"
   ]
  },
  {
   "cell_type": "markdown",
   "metadata": {},
   "source": [
    "## Problem 4\n",
    "\n",
    "Write a program that sings the song [\"99 Bottles of Beer\"](http://www.99-bottles-of-beer.net/lyrics.html), in as few lines of code as possible. To keep it short, we will sing \"10 Bottles of Beer\" instead."
   ]
  },
  {
   "cell_type": "code",
   "execution_count": null,
   "metadata": {},
   "outputs": [],
   "source": [
    "# Solution to Problem 4\n",
    "\n",
    "num_of_bottles = 10\n",
    "while num_of_bottles > 1:\n",
    "    print(\"{} bottles of beer on the wall, {} bottles of beer.\".format(num_of_bottles, num_of_bottles))\n",
    "    num_of_bottles -= 1\n",
    "    print(\"Take one down and pass it around, {} bottles of beer on the wall.\\n\".format(num_of_bottles))\n",
    "\n",
    "print(\"1 bottle of beer on the wall, 1 bottle of beer.\")\n",
    "print(\"Take one down and pass it around, no more bottles of beer on the wall.\")\n"
   ]
  },
  {
   "cell_type": "markdown",
   "metadata": {},
   "source": [
    "## Problem 5\n",
    "\n",
    "Write a roller-coaster ride admission program that asks the user for their age. It should deny entry if the user is under 10, allow entry accompanied by an adult if the user is between 10 and 15, and allow full entry otherwise."
   ]
  },
  {
   "cell_type": "code",
   "execution_count": null,
   "metadata": {},
   "outputs": [],
   "source": [
    "# Solution to Problem 5\n",
    "user_age = int(input(\"What is your age?\"))\n",
    "if user_age < 10:\n",
    "    print(\"You're too young for this ride!\")\n",
    "elif user_age <= 15:\n",
    "    print(\"You may ride with an adult!\")\n",
    "else:\n",
    "    print(\"Go ahead!\")"
   ]
  },
  {
   "cell_type": "markdown",
   "metadata": {},
   "source": [
    "## Problem 6\n",
    "\n",
    "Write a Rock, Paper, Scissors program. It should:\n",
    "1. Ask for input from two users.\n",
    "2. Determine and announce a winner/tie from the two hands.\n",
    "3. Ask if they would like to play another round.\n",
    "4. Keep playing the game as long as they wish to play. Exit otherwise.\n",
    "5. Keep track of both players' scores, and announce them once the game has concluded."
   ]
  },
  {
   "cell_type": "code",
   "execution_count": null,
   "metadata": {
    "collapsed": true
   },
   "outputs": [],
   "source": [
    "# Solution to Problem 6\n",
    "game_playing = True\n",
    "usr1_score = 0\n",
    "usr2_score = 0\n",
    "while game_playing:\n",
    "    usr1 = input(\"User 1: rock/paper/scissors\")\n",
    "    usr2 = input(\"User 2: rock/paper/scissors\")\n",
    "    \n",
    "    if usr1 == usr2:\n",
    "        print(\"It's a tie!\")\n",
    "    elif usr1 == \"rock\" and usr2 == \"scissors\":\n",
    "        print(\"User 1 wins!\")\n",
    "        usr1_score += 1\n",
    "    elif usr1 == \"rock\" and usr2 == \"paper\":\n",
    "        print(\"User 2 wins!\")\n",
    "        usr2_score += 1\n",
    "    elif usr1 == \"scissors\" and usr2 == \"rock\":\n",
    "        print(\"User 2 wins!\")\n",
    "        usr2_score += 1\n",
    "    elif usr1 == \"scissors\" and usr2 == \"paper\":\n",
    "        print(\"User 1 wins!\")\n",
    "        usr1_score += 1\n",
    "    elif usr1 == \"paper\" and usr2 == \"scissors\":\n",
    "        print(\"User 2 wins!\")\n",
    "        usr2_score += 1\n",
    "    elif usr1 == \"paper\" and usr2 == \"rock\":\n",
    "        print(\"User 1 wins!\")\n",
    "        usr1_score += 1\n",
    "    else:\n",
    "        print(\"Invalid input!\")\n",
    "    \n",
    "    # Take a look at this line carefully. Do you understand what it does?\n",
    "    game_playing = input(\"Play again? (yes/no)\") == \"yes\"\n",
    "\n",
    "\n",
    "print(\"User 1: {} points\".format(usr1_score))\n",
    "print(\"User 2: {} points\".format(usr2_score))\n",
    "\n"
   ]
  },
  {
   "cell_type": "markdown",
   "metadata": {},
   "source": [
    "### Challenge 6.1\n",
    "\n",
    "Write a Rock, Paper, Scissors, Lizard, Spock program. See the rules [here](http://www.samkass.com/theories/RPSSL.html)."
   ]
  },
  {
   "cell_type": "code",
   "execution_count": null,
   "metadata": {
    "collapsed": true
   },
   "outputs": [],
   "source": [
    "# Solution to Challenge 6.1\n",
    "game_playing = True\n",
    "usr1_score = 0\n",
    "usr2_score = 0\n",
    "while game_playing:\n",
    "    usr1 = input(\"User 1: rock/paper/scissors/lizard/spock\")\n",
    "    usr2 = input(\"User 2: rock/paper/scissors/lizard/spock\")\n",
    "    \n",
    "    if usr1 == usr2:\n",
    "        print(\"It's a tie!\")\n",
    "    elif usr1 == \"rock\" and (usr2 == \"scissors\" or usr2 == \"lizard\"):\n",
    "        print(\"User 1 wins!\")\n",
    "        usr1_score += 1\n",
    "    elif usr1 == \"rock\" and (usr2 == \"paper\" or usr2 == \"spock\"):\n",
    "        print(\"User 2 wins!\")\n",
    "        usr2_score += 1\n",
    "    elif usr1 == \"scissors\" and (usr2 == \"rock\" or usr2 == \"spock\"):\n",
    "        print(\"User 2 wins!\")\n",
    "        usr2_score += 1\n",
    "    elif usr1 == \"scissors\" and (usr2 == \"paper\" or usr2 == \"lizard\"):\n",
    "        print(\"User 1 wins!\")\n",
    "        usr1_score += 1\n",
    "    elif usr1 == \"paper\" and (usr2 == \"scissors\" or usr2 == \"lizard\"):\n",
    "        print(\"User 2 wins!\")\n",
    "        usr2_score += 1\n",
    "    elif usr1 == \"paper\" and (usr2 == \"rock\" or usr2 == \"spock\"):\n",
    "        print(\"User 1 wins!\")\n",
    "        usr1_score += 1\n",
    "    elif usr1 == \"lizard\" and (usr2 == \"scissors\" or usr2 == \"rock\"):\n",
    "        print(\"User 2 wins!\")\n",
    "        usr2_score += 1\n",
    "    elif usr1 == \"lizard\" and (usr2 == \"paper\" or usr2 == \"spock\"):\n",
    "        print(\"User 1 wins!\")\n",
    "        usr1_score += 1\n",
    "    elif usr1 == \"spock\" and (usr2 == \"paper\" or usr2 == \"lizard\"):\n",
    "        print(\"User 2 wins!\")\n",
    "        usr2_score += 1\n",
    "    elif usr1 == \"spock\" and (usr2 == \"scissors\" or usr2 == \"rock\"):\n",
    "        print(\"User 1 wins!\")\n",
    "        usr1_score += 1\n",
    "    else:\n",
    "        print(\"Invalid input!\")\n",
    "    \n",
    "    game_playing = input(\"Play again? (yes/no)\") == \"yes\"\n",
    "\n",
    "\n",
    "print(\"User 1: {} points\".format(usr1_score))\n",
    "print(\"User 2: {} points\".format(usr2_score))"
   ]
  },
  {
   "cell_type": "markdown",
   "metadata": {},
   "source": [
    "### Challenge 6.2\n",
    "\n",
    "Write a RPS game that has 101 different outcomes. You are allowed to use numbers, rather than words like \"scissors\", for this exercise. Example [here](http://www.umop.com/rps101/rps101chart.html). How can you implement this without manually listing every possibility?\n",
    "(Hint 1: Is there some simple math you can do so that the program works for any RPS game with `N` different outcomes?)\n",
    "(Hint 2: Can you then rewrite the previous two exercises with this new formula?) "
   ]
  },
  {
   "cell_type": "code",
   "execution_count": null,
   "metadata": {
    "collapsed": true
   },
   "outputs": [],
   "source": [
    "# Solution to Challenge 6.2\n",
    "game_playing = True\n",
    "usr1_score = 0\n",
    "usr2_score = 0\n",
    "while game_playing:\n",
    "    usr1 = int(input(\"User 1: 1-101\"))\n",
    "    usr2 = int(input(\"User 2: 1-101\"))\n",
    "    \n",
    "    print(abs((usr1 - usr2) % 101))\n",
    "    if usr1 == usr2:\n",
    "        print(\"It's a tie!\")\n",
    "    elif (abs((usr1 - usr2) % 101) > 50):\n",
    "        print(\"User 1 wins\")\n",
    "        usr1_score += 1\n",
    "    elif (abs((usr1 - usr2) % 101) <= 50):\n",
    "        print(\"User 2 wins\")\n",
    "        usr2_score += 1\n",
    "    else:\n",
    "        print(\"Invalid input!\")\n",
    "    \n",
    "    game_playing = input(\"Play again? (yes/no)\") == \"yes\"\n",
    "\n",
    "\n",
    "print(\"User 1: {} points\".format(usr1_score))\n",
    "print(\"User 2: {} points\".format(usr2_score))\n"
   ]
  }
 ],
 "metadata": {
  "kernelspec": {
   "display_name": "Python 3",
   "language": "python",
   "name": "python3"
  },
  "language_info": {
   "codemirror_mode": {
    "name": "ipython",
    "version": 3
   },
   "file_extension": ".py",
   "mimetype": "text/x-python",
   "name": "python",
   "nbconvert_exporter": "python",
   "pygments_lexer": "ipython3",
   "version": "3.6.2"
  }
 },
 "nbformat": 4,
 "nbformat_minor": 2
}
