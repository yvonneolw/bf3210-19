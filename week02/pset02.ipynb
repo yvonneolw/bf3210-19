{
 "cells": [
  {
   "cell_type": "markdown",
   "metadata": {},
   "source": [
    "## Problem 1\n",
    "\n",
    "Write a function called `fibonacci` that computes the N-th Fibonacci number."
   ]
  },
  {
   "cell_type": "code",
   "execution_count": null,
   "metadata": {
    "collapsed": true
   },
   "outputs": [],
   "source": [
    "# Solution to Problem 1\n"
   ]
  },
  {
   "cell_type": "markdown",
   "metadata": {},
   "source": [
    "## Problem 2\n",
    "\n",
    "Write a function called `fizz_buzz` that prints every even number from 10 to 100, except for the following cases:\n",
    "\n",
    "- If the number is a multiple of 8, print “fizz” instead.\n",
    "- If the number is a multiple of 12, print “buzz” instead.\n",
    "- If the number is a multiple of 8 and 12, print “fizz buzz” instead."
   ]
  },
  {
   "cell_type": "code",
   "execution_count": null,
   "metadata": {
    "collapsed": true
   },
   "outputs": [],
   "source": [
    "# Solution to Problem 2\n"
   ]
  },
  {
   "cell_type": "markdown",
   "metadata": {},
   "source": [
    "## Problem 3\n",
    "\n",
    "Write a function called `beer_bottle_song` that sings the \"bottles of beer on the wall\" song from last week. This time, rewrite the code so that it uses for loops instead."
   ]
  },
  {
   "cell_type": "code",
   "execution_count": null,
   "metadata": {
    "collapsed": true
   },
   "outputs": [],
   "source": [
    "# Solution to Problem 3\n"
   ]
  },
  {
   "cell_type": "markdown",
   "metadata": {},
   "source": [
    "## Problem 4\n",
    "\n",
    "Write a function called `print_board` that takes a list of lists, and prints a two-dimensional checkerboard with those values.\n",
    "\n",
    "For example, passing the list\n",
    "```\n",
    "[[\"a\", \"b\", \"c\"], [\"d\", \"e\", \"f\"], [\"g\", \"h\", \"i\"]]\n",
    "```\n",
    "to the function should print\n",
    "```\n",
    "-------------\n",
    "| a | b | c |\n",
    "-------------\n",
    "| d | e | f |\n",
    "-------------\n",
    "| g | h | i |\n",
    "-------------\n",
    "```\n",
    "\n",
    "Assume that every inner list has the same number of elements."
   ]
  },
  {
   "cell_type": "code",
   "execution_count": null,
   "metadata": {
    "collapsed": true
   },
   "outputs": [],
   "source": [
    "# Solution to Problem 4\n"
   ]
  },
  {
   "cell_type": "markdown",
   "metadata": {},
   "source": [
    "## Problem 5\n",
    "\n",
    "Create a simple chatbot that lets the user look up and add name/phone number pairs to a directory.\n",
    "- The whole program should enclosed in a while loop.\n",
    "- In every iteration, prompt the user to enter a name.\n",
    "- If the name exists in the directory, print the associated phone number.\n",
    "- Otherwise, prompt the user to enter a phone number, and add the name/number pair to the directory.\n",
    "- In both cases, ask the user if they would like to quit the program. If yes, exit the loop."
   ]
  },
  {
   "cell_type": "code",
   "execution_count": null,
   "metadata": {
    "collapsed": true
   },
   "outputs": [],
   "source": [
    "# Solution to Problem 5\n",
    "\n",
    "phone_book = {\"James\": \"83058304\", \"Jessica\": \"59389284\"}"
   ]
  },
  {
   "cell_type": "markdown",
   "metadata": {},
   "source": [
    "## Problem 6\n",
    "\n",
    "Rewrite last week's rock paper scissors code so that you can generate a game with any number of possible hands. Remember, the keyword is abstraction. Use the solution to Challenge 6.2 as a guide. (e.g. RPS3, RPS42, RPS101...)"
   ]
  },
  {
   "cell_type": "code",
   "execution_count": null,
   "metadata": {
    "collapsed": true
   },
   "outputs": [],
   "source": [
    "# Solution to Problem 6\n"
   ]
  }
 ],
 "metadata": {
  "kernelspec": {
   "display_name": "Python 3",
   "language": "python",
   "name": "python3"
  },
  "language_info": {
   "codemirror_mode": {
    "name": "ipython",
    "version": 3
   },
   "file_extension": ".py",
   "mimetype": "text/x-python",
   "name": "python",
   "nbconvert_exporter": "python",
   "pygments_lexer": "ipython3",
   "version": "3.6.2"
  }
 },
 "nbformat": 4,
 "nbformat_minor": 2
}
