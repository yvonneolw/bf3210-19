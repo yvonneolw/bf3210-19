{
 "cells": [
  {
   "cell_type": "markdown",
   "metadata": {},
   "source": [
    "# 12. Classes and Objects\n",
    "\n",
    "Suppose we want to store and manipulate some information about a user. We do this:"
   ]
  },
  {
   "cell_type": "code",
   "execution_count": null,
   "metadata": {
    "collapsed": true
   },
   "outputs": [],
   "source": [
    "user_first_name = \"Jane\"\n",
    "user_last_name = \"Jacobson\"\n",
    "user_full_name = \"Jane Jacobson\"\n",
    "user_age = 25\n",
    "user_occupation = \"banker\"\n",
    "user_height = 167.4\n",
    "user_registered = True"
   ]
  },
  {
   "cell_type": "markdown",
   "metadata": {},
   "source": [
    "All seven of these variables are associated with one \"thing\", the *user*. Can we somehow make it clear that the seven pieces of information are *attributes* of the user?\n",
    "\n",
    "This is all the more necessary if we have two users."
   ]
  },
  {
   "cell_type": "code",
   "execution_count": null,
   "metadata": {
    "collapsed": true
   },
   "outputs": [],
   "source": [
    "user1_first_name = \"Jane\"\n",
    "user1_last_name = \"Jacobson\"\n",
    "user1_full_name = \"Jane Jacobson\"\n",
    "user1_age = 25\n",
    "user1_occupation = \"banker\"\n",
    "user1_height = 167.4\n",
    "user1_registered = True\n",
    "\n",
    "user2_first_name = \"John\"\n",
    "user2_last_name = \"Jackson\"\n",
    "user2_full_name = \"John Jackson\"\n",
    "user2_age = 30\n",
    "user2_occupation = \"teacher\"\n",
    "user2_height = 172.4\n",
    "user2_registered = False"
   ]
  },
  {
   "cell_type": "markdown",
   "metadata": {},
   "source": [
    "Now it's really tedious.\n",
    "\n",
    "This is where we introduce **classes**. A class is a specification for some \"thing\". In this case, that thing might be a **User**. It has:\n",
    "- First name\n",
    "- Last name\n",
    "- Full name\n",
    "- Age\n",
    "- Occupation\n",
    "- Height\n",
    "- Registered\n",
    "\n",
    "You should think of a class as a blueprint. Before you build a house, you always have a blueprint that sets the rules for what any house should look like—has a roof, has windows, has a door, for example. Then, you build an actual house following that blueprint.\n",
    "\n",
    "Here is the User class in Python. Notice that class names are always capitalized. Don't worry about the specifics just yet."
   ]
  },
  {
   "cell_type": "code",
   "execution_count": null,
   "metadata": {
    "collapsed": true
   },
   "outputs": [],
   "source": [
    "class User:\n",
    "    def __init__(self, first_name, last_name, age, occupation, height, registered):\n",
    "        self.first_name = first_name\n",
    "        self.last_name = last_name\n",
    "        self.full_name = first_name + \" \" + last_name\n",
    "        self.age = age\n",
    "        self.occupation = occupation\n",
    "        self.height = height\n",
    "        self.registered = registered\n"
   ]
  },
  {
   "cell_type": "markdown",
   "metadata": {},
   "source": [
    "Let's continue with the house analogy. Now that we have our blueprint, we want to build a house.\n",
    "\n",
    "If our blueprint says:\n",
    "```\n",
    "has a roof; has windows; has a door; may have a chimney\n",
    "```\n",
    "\n",
    "Then I can build a house that:\n",
    "```\n",
    "has a blue roof; has 5 windows; has a wooden door; does not have a chimney\n",
    "```\n",
    "\n",
    "I can also build another house next to it that:\n",
    "```\n",
    "has a red roof; has 3 windows; has a metal door; has a chimney\n",
    "```\n",
    "\n",
    "*We can make multiple houses, each slightly different, from the same blueprint.* In the same way, we can **instantiate** multiple distinct **objects** for the same **class**. Using the `User` class we just declared, we can do this.\n",
    "\n",
    "`__init__` in the class declaration is a function that is called whenever we instantiate a new object for a class. It is used to assign initial values to our class attributes. We instantiate an object in a similar way to how we call a function, and the arguments in the parentheses are the arguments for the `__init__` function. The first argument of `__init__` is *always* `self`.\n",
    "\n",
    "Things to note:\n",
    "- Notice that we didn't need to pass in a `full_name` parameter into the `__init__` function. This is because we can construct the `full_name` by only knowing the `first_name` and `last_name`.\n",
    "- We access the attributes of our objects with a dot ('`.`'). Do you see why we can better organize our code using classes and objects?\n",
    "- Notice that we didn't pass in the `registered` parameter. This is because we set `registered` to `False` by default.\n"
   ]
  },
  {
   "cell_type": "code",
   "execution_count": null,
   "metadata": {},
   "outputs": [],
   "source": [
    "# define User class\n",
    "class User:\n",
    "    def __init__(self, first_name, last_name, age, occupation, height):\n",
    "        self.first_name = first_name\n",
    "        self.last_name = last_name\n",
    "        self.full_name = first_name + \" \" + last_name\n",
    "        self.age = age\n",
    "        self.occupation = occupation\n",
    "        self.height = height\n",
    "        self.registered = False\n",
    "\n",
    "# instantiate User objects\n",
    "jane = User(\"Jane\", \"Jacobson\", 25, \"banker\", 167.4)\n",
    "john = User(\"John\", \"Jackson\", 30, \"teacher\", 172.3)\n",
    "\n",
    "# access the attributes of our newly created objects\n",
    "print(jane.age)\n",
    "print(john.age)\n",
    "print(jane.full_name)\n",
    "print(john.registered)\n",
    "print(jane.registered)\n"
   ]
  },
  {
   "cell_type": "markdown",
   "metadata": {},
   "source": [
    "Just as the `User` can have attributes like name and age, it can also perform *actions*. In other words, we can add functions to our class declaration. Functions that belong to a class are called **methods**.\n",
    "\n",
    "Now, we're going to add a method to the `User` class to let users introduce themselves."
   ]
  },
  {
   "cell_type": "code",
   "execution_count": null,
   "metadata": {},
   "outputs": [],
   "source": [
    "# define User class\n",
    "class User:\n",
    "    def __init__(self, first_name, last_name, age, occupation, height):\n",
    "        self.first_name = first_name\n",
    "        self.last_name = last_name\n",
    "        self.full_name = first_name + \" \" + last_name\n",
    "        self.age = age\n",
    "        self.occupation = occupation\n",
    "        self.height = height\n",
    "        self.registered = False\n",
    "    \n",
    "    def greet(self):\n",
    "        greeting = \"Hello! My name is {}, and I am {} years old. I am a {}, and my height is {}cm.\".format(self.full_name, self.age, self.occupation, self.height)\n",
    "        print(greeting)\n",
    "\n",
    "# instantiate User objects\n",
    "jane = User(\"Jane\", \"Jacobson\", 25, \"banker\", 167.4)\n",
    "john = User(\"John\", \"Jackson\", 30, \"teacher\", 172.3)\n",
    "\n",
    "# call the greet() method\n",
    "jane.greet()\n",
    "john.greet()"
   ]
  },
  {
   "cell_type": "markdown",
   "metadata": {},
   "source": [
    "## Exercise 12.1\n",
    "\n",
    "The `User` class has been modified to give it an attribute `spouse`, which is set to `None` by default. Extend the `User` class to give it a method called `assign_spouse`. The method should take two arguments, `self` and `spouse`, and modify the attribute accordingly.\n",
    "\n",
    "Then, create two `User`s, and call `assign_spouse` to both to assign each other as spouses.\n",
    "\n",
    "**Yes, you can assign *objects* to variables!**"
   ]
  },
  {
   "cell_type": "code",
   "execution_count": null,
   "metadata": {
    "collapsed": true
   },
   "outputs": [],
   "source": [
    "# Solution for Exercise 12.1\n",
    "class User:\n",
    "    def __init__(self, first_name, last_name, age, occupation, height):\n",
    "        self.first_name = first_name\n",
    "        self.last_name = last_name\n",
    "        self.full_name = first_name + \" \" + last_name\n",
    "        self.age = age\n",
    "        self.occupation = occupation\n",
    "        self.height = height\n",
    "        self.registered = False\n",
    "        self.spouse = None  # the spouse attribute is set to None when first created\n",
    "    \n",
    "    def greet(self):\n",
    "        greeting = \"Hello! My name is {}, and I am {} years old. I am a {}, and my height is {}cm.\".format(self.full_name, self.age, self.occupation, self.height)\n",
    "        print(greeting)\n",
    "    \n",
    "    # TODO: add your assign_spouse method here\n",
    "\n",
    "    \n",
    "# create two Users\n",
    "jane = User(\"Jane\", \"Jacobson\", 25, \"banker\", 167.4)\n",
    "john = User(\"John\", \"Jackson\", 30, \"teacher\", 172.3)\n",
    "\n",
    "# assign each other as spouses\n",
    "jane.assign_spouse(john)\n",
    "john.assign_spouse(jane)\n"
   ]
  },
  {
   "cell_type": "markdown",
   "metadata": {},
   "source": [
    "**Questions:**\n",
    "1. What is the _data type_ of the `spouse` attribute?\n",
    "2. Is there another way of directly assigning the spouse without using the `assign_spouse` method?"
   ]
  },
  {
   "cell_type": "markdown",
   "metadata": {},
   "source": [
    "# 13. Modules\n",
    "\n",
    "Classes, objects, and functions are helpful because they let us **modularize** our code. In other words, they are useful for sharing code while working on large projects.\n",
    "\n",
    "Developers often organize their code into **modules**. Think of it as a toolbox, something that groups together a set of related functions and class declarations.\n",
    "\n",
    "An example is the `datetime` module, which adds support for operating with dates and times in Python. As always, the [official documentation](https://docs.python.org/3.6/library/datetime.html) is the best place to learn. \n",
    "\n",
    "We can use a module by adding an `import` statement at the beginning of the file.\n",
    "\n",
    "The `datetime` module supports several classes: `date`, `time`, `datetime`, `timedelta`, etc. We can access them with the `import` command."
   ]
  },
  {
   "cell_type": "code",
   "execution_count": null,
   "metadata": {},
   "outputs": [],
   "source": [
    "from datetime import date, time, datetime, timedelta\n",
    "\n",
    "print(\"Now:\", datetime.now())\n",
    "print(\"Now (with formatting):\", datetime.now().strftime(\"On %d/%m/%y at %H:%M\"))\n",
    "print(\"Today is:\", date.today())\n",
    "print(\"Day of the week:\", date.today().strftime(\"%A\"))\n",
    "print(\"Tomorrow is:\", date.today() + timedelta(days=1))\n"
   ]
  },
  {
   "cell_type": "markdown",
   "metadata": {},
   "source": [
    "## The datetime module\n",
    "The `datetime` module includes multiple classes. Most notably:\n",
    "\n",
    "`datetime.date` assumes a Gregorian calendar and represents a date.\n",
    "\n",
    "`datetime.time` is indepenent of any day and assumes every day has exactly 24\\*60\\*60 seconds.\n",
    "\n",
    "`datetime.datetime` is a combination of a date and a time, with attributes `year`, `month`, `day`, `hour`, `minute`, `second`, `microsecond`, and `tzinfo` -- short for <b>t</b>ime<b>z</b>one <b>info</b>.\n",
    "\n",
    "`datetime.timedelta` allows us to express a difference between two `date`, `time`, or `datetime` instances."
   ]
  },
  {
   "cell_type": "markdown",
   "metadata": {},
   "source": [
    "## Formatting date and time\n",
    "`datetime.datetime.strftime()`, short for <b>str</b>ing <b>f</b>ormatted <b>time</b>, allows us to create a string describing a given datetime in a format we desire.\n",
    "\n",
    "`datetime.datetime.strftime()` takes a string as its argument, with special characters to denote where elements of the datetime should go. For example:\n",
    "\n",
    "`datetime.date.today().strftime(\"The date today is %d/%m/%Y\")` will return `\"The date today is 29/01/2019\"`\n",
    "\n",
    "`strptime`, short for <b>str</b>ing <b>p</b>arsing <b>time</b>, allows us to parse a string and create datetime object from a given format.\n",
    "\n",
    "`strptime` takes two arguments, the first is the input string and the second is the expected input format. For example:\n",
    "\n",
    "`datetime.strptime(\"29/01/2019\", \"%d/%m/%Y\")` will return a datetime object representing the current day.\n",
    "\n",
    "If the input string does not match the format requested, a `ValueError` will be raised."
   ]
  },
  {
   "cell_type": "markdown",
   "metadata": {},
   "source": [
    "Below are some examples of string formats for `strftime` and `strptime`:\n",
    "\n",
    "#### Days\n",
    "`%a` : Sun    \n",
    "`%A` : Sunday    \n",
    "`%w` : 0..6 (Sunday is 0)    \n",
    "#### Year\n",
    "`%y` : 13    \n",
    "`%Y` : 2013    \n",
    "#### Month\n",
    "`%b` : Jan        \n",
    "`%B` : January    \n",
    "`%m` : 01..12    \n",
    "#### Day\n",
    "`%d` : 01..31      \n",
    "`%e` : 1..31    \n",
    "`%j` : 001...366 (Day of the year)\n",
    "\n",
    "#### Hour\n",
    "`%l` : 1    \n",
    "`%H` : 00..23    \n",
    "`%I` : 01..12   \n",
    "#### Minute\n",
    "`%M` : 00..59    \n",
    "#### Second\n",
    "`%S` : 00..60    \n",
    "#### AM/PM\n",
    "`%p` : AM\n",
    "#### Time Zone\n",
    "`%Z` : +08     "
   ]
  },
  {
   "cell_type": "markdown",
   "metadata": {},
   "source": [
    "## Exercise 13.1\n",
    "\n",
    "Write a function, `get_day_of_week`, that asks the user for a date in the form:\n",
    "\n",
    "`DD-MM-YYYY` (e.g. `29-01-2019`)\n",
    "\n",
    "It should then print the day of the week.\n",
    "\n",
    "Read the [documentation](https://docs.python.org/3/library/datetime.html#strftime-and-strptime-behavior) carefully to figure out which methods to use."
   ]
  },
  {
   "cell_type": "code",
   "execution_count": null,
   "metadata": {},
   "outputs": [],
   "source": [
    "# Solution to Exercise 13.1\n"
   ]
  },
  {
   "cell_type": "markdown",
   "metadata": {},
   "source": [
    "# 14. Working With Data\n",
    "\n",
    "And so ends our (very) brief introduction to programming in Python. From here, we'll be learning about how to read, manipulate, and visualize various types of data.\n",
    "\n",
    "To start out, ensure the following files are located *in the same directory* as this Notebook.\n",
    "- `students.csv`\n",
    "- `fandango_score_comparison.csv`\n",
    "\n",
    "## Pandas [(docs)](http://pandas.pydata.org/pandas-docs/stable/)\n",
    "\n",
    "Pandas is a powerful Python library used for data analysis.\n",
    "\n",
    "Pandas provides a few data structures to help us out. A **`Series`** is a one-dimensional list with labels for the rows and columns.\n",
    "\n",
    "A **`DataFrame`** is a multi-dimensional list with labels for the rows and columns.\n",
    "\n",
    "Things to note:\n",
    "- Notice the first line `import ... as ...`. By doing this, we are importing the Pandas module, and giving it an *alias* (a nickname). Henceforth, we can refer to the module as `pd`. \n"
   ]
  },
  {
   "cell_type": "code",
   "execution_count": null,
   "metadata": {},
   "outputs": [],
   "source": [
    "import pandas as pd\n",
    "\n",
    "\"\"\"\n",
    "SERIES\n",
    "\"\"\"\n",
    "print(\"===SERIES===\")\n",
    "print(\"A series of fruits\")\n",
    "rows = [2, 4, 6]\n",
    "rownames = ['apple', 'orange', 'pear']\n",
    "my_series = pd.Series(rows, index=rownames)\n",
    "print(my_series)\n",
    "\n",
    "# access series indices with their index number or row name\n",
    "print(my_series[1])\n",
    "print(my_series['orange'])\n",
    "print()\n",
    "\n",
    "\"\"\"\n",
    "DATAFRAME\n",
    "\"\"\"\n",
    "print(\"===DATAFRAMES===\")\n",
    "print(\"A dataframe of fruits\")\n",
    "rows = [[1, 2, 3], [4, 5, 6]]\n",
    "colnames = ['apple', 'orange', 'pear']\n",
    "rownames = ['red', 'green']\n",
    "my_dataframe = pd.DataFrame(rows, index=rownames, columns=colnames)\n",
    "print(my_dataframe)\n",
    "print()\n",
    "\n",
    "print(\"A dataframe of students\")\n",
    "data = pd.read_csv('students.csv')  # load data from a CSV file into a DataFrame\n",
    "print(data.head(4))  # get the first 4 rows of the DataFrame\n",
    "print()\n",
    "\n",
    "data.rename(columns={data.columns[1]:'classroom'}, inplace=True)  # modify the label of a column\n",
    "print(\"The dataframe of students, modified\")\n",
    "print(data.head(4))\n"
   ]
  },
  {
   "cell_type": "markdown",
   "metadata": {},
   "source": [
    "## Bokeh [(docs)](https://bokeh.pydata.org/en/0.12.13/docs/user_guide.html)\n",
    "\n",
    "Bokeh is a charting library used to display graphs and figures. We will use Bokeh to visualize the data we manipulate with Pandas.\n",
    "\n",
    "To make a Bokeh graph, first create a `Figure` object with the `figure()` method. This serves as the canvas on which we do all of our graphing.\n",
    "\n",
    "The `Figure` class has many methods used to draw different shapes. You can see all of the possibilities [here](https://bokeh.pydata.org/en/0.12.13/docs/user_guide/plotting.html#userguide-plotting). Call one of these methods on the `Figure` object to plot some markers.\n",
    "\n",
    "Finally, call `show()` on the `Figure` object to display the plot.\n",
    "\n",
    "Let's make a simple scatterplot. For this, we use the `circle()` method of `Figure`."
   ]
  },
  {
   "cell_type": "code",
   "execution_count": null,
   "metadata": {},
   "outputs": [],
   "source": [
    "import pandas as pd\n",
    "from bokeh.plotting import figure, show\n",
    "from bokeh.models import ColumnDataSource\n",
    "from bokeh.io import output_notebook\n",
    "\n",
    "output_notebook()  # display the graph inline with this Jupyter notebook and not in a new window\n",
    "\n",
    "data = pd.read_csv('students.csv')  # read the csv file as a Pandas DataFrame\n",
    "\n",
    "source = ColumnDataSource(data=data)  # set the source of the Bokeh Graph to use the DataFrame\n",
    "\n",
    "p = figure()  # create a figure\n",
    "p.circle(x='age', y='score', source=source)\n",
    "show(p)\n"
   ]
  },
  {
   "cell_type": "markdown",
   "metadata": {},
   "source": [
    "Now, we'll use a larger dataset, one of movie ratings collected from different review websites. Let's take a peek at the data."
   ]
  },
  {
   "cell_type": "code",
   "execution_count": null,
   "metadata": {},
   "outputs": [],
   "source": [
    "data = pd.read_csv('fandango_score_comparison.csv')  # read the csv file as a Pandas DataFrame\n",
    "data.head()"
   ]
  },
  {
   "cell_type": "markdown",
   "metadata": {},
   "source": [
    "Notice how we can see the correlation between Rotten Tomaotoes reviews and Metacritic reviews, just by making a simple scatterplot!"
   ]
  },
  {
   "cell_type": "code",
   "execution_count": null,
   "metadata": {},
   "outputs": [],
   "source": [
    "import pandas as pd\n",
    "from bokeh.plotting import figure, show\n",
    "from bokeh.models import ColumnDataSource\n",
    "from bokeh.io import output_notebook\n",
    "\n",
    "output_notebook()  # display the graph inline with this Jupyter notebook and not in a new window\n",
    "\n",
    "data = pd.read_csv('fandango_score_comparison.csv')  # read the csv file as a Pandas DataFrame\n",
    "\n",
    "source = ColumnDataSource(data=data)  # set the source of the Bokeh Graph to use the DataFrame\n",
    "p = figure()  # create a figure\n",
    "p.circle(x='RottenTomatoes', y='Metacritic', source=source)  # plot points on the figure\n",
    "show(p)  # show the figure"
   ]
  },
  {
   "cell_type": "markdown",
   "metadata": {
    "collapsed": true
   },
   "source": [
    "From here, try to refer to the documentation to complete the following exercises.\n",
    "\n",
    "## Exercise 14.1\n",
    "\n",
    "Draw a identical graph to the one above, but **overlay** a plot of Rotten Tomatoes vs Fandango rating values. Use a different color for the plot markers."
   ]
  },
  {
   "cell_type": "code",
   "execution_count": null,
   "metadata": {},
   "outputs": [],
   "source": [
    "# Solution for Exercise 14.1\n",
    "import pandas as pd\n",
    "from bokeh.plotting import figure, show\n",
    "from bokeh.models import ColumnDataSource\n",
    "from bokeh.io import output_notebook\n",
    "\n",
    "output_notebook()  # display the graph inline with this Jupyter notebook and not in a new window\n",
    "\n",
    "data = pd.read_csv('fandango_score_comparison.csv')  # read the csv file as a Pandas DataFrame\n",
    "\n",
    "source = ColumnDataSource(data=data)  # set the source of the Bokeh Graph to use the DataFrame\n",
    "p = figure()  # create a figure\n",
    "p.circle(x='RottenTomatoes', y='Metacritic', source=source)  # plot points on the figure\n",
    "\n",
    "# TODO: your code here\n",
    "\n",
    "\n",
    "show(p)  # show the figure"
   ]
  },
  {
   "cell_type": "markdown",
   "metadata": {},
   "source": [
    "**Questions:**\n",
    "1. When you've completed the exercise, you'll see that the Fandango rating values appear close together. In theory, what would you do to the data to make it easier to see the differences in value?"
   ]
  },
  {
   "cell_type": "markdown",
   "metadata": {},
   "source": [
    "## Exercise 14.2\n",
    "\n",
    "Add axis labels, a title, and a legend to the plot you just created. (Copy and paste your code from Exercise 14.1 to begin.)\n",
    "\n",
    "For legend titles, use \"Metacritic score\" and \"Fandango rating\".\n",
    "\n",
    "Refer to the [documentation here](https://bokeh.pydata.org/en/latest/docs/user_guide/styling.html) for more information."
   ]
  },
  {
   "cell_type": "code",
   "execution_count": null,
   "metadata": {},
   "outputs": [],
   "source": [
    "# Solution for Exercise 14.2\n"
   ]
  },
  {
   "cell_type": "markdown",
   "metadata": {},
   "source": [
    "## Exercise 14.3\n",
    "\n",
    "Now, take only the first 10 movies in the file. (Remember how?) Create a bar plot that shows the movie names on the x axis, and IMDb movie rating scores on the y axis.\n",
    "\n",
    "Refer to the [documentation here](https://bokeh.pydata.org/en/latest/docs/user_guide/categorical.html) for more information. You may notice from the examples that your figure now needs a `x_range` parameter. You can provide it with `xrange=list(data[\"FILM\"])`."
   ]
  },
  {
   "cell_type": "code",
   "execution_count": null,
   "metadata": {},
   "outputs": [],
   "source": [
    "# Solution for Exercise 14.3\n"
   ]
  },
  {
   "cell_type": "markdown",
   "metadata": {},
   "source": [
    "## Interlude\n",
    "\n",
    "We'll get back to Pandas and Bokeh in a bit.\n",
    "\n",
    "We learned that **an object instantiated from a class has attributes which can be accessed, and methods which can be called**. \n",
    "\n",
    "Take a second to make sure you understand every part of that sentence.\n",
    "\n",
    "Now, recall all of the built-in functions we've learned so far that use the dot notation:\n",
    "* Strings: `join`, `split`, `format`...\n",
    "* Lists: `append`, `insert`, `pop`...\n",
    "\n",
    "Until now, we've simply accepted the dot notation as part of the syntax. But now, we can understand it at a deeper level.\n",
    "\n",
    "**Everything** in Python is an object. That means that everything has attributes and methods. An integer like `42` is an instance of the class `int`. A list like `['A', 'B', 'C']` is an instance of the class `list`. So, when we write this:\n",
    "```\n",
    "    \"ABC,DEF,GHI\".split(\",\")\n",
    "```\n",
    "we have actually taken a few steps at once:\n",
    "* create an object `\"ABC,DEF,GHI\"` from the `str` class.\n",
    "* create an object `\",\"` from the `str` class.\n",
    "* call the method `split` on the first `str` object, passing in the second `str` object as an argument.\n",
    "\n",
    "Keep this in the back of your mind as you progress in this course."
   ]
  },
  {
   "cell_type": "markdown",
   "metadata": {},
   "source": [
    "# 15. List Comprehensions\n",
    "\n",
    "We've almost covered enough material to get us up and running for good.\n",
    "\n",
    "From what we've learned, we can create lists of anything by using a `for` loop and the `append` function of lists."
   ]
  },
  {
   "cell_type": "code",
   "execution_count": null,
   "metadata": {},
   "outputs": [],
   "source": [
    "first_name_list = [\"John\", \"Jane\", \"Jack\", \"Judie\"]\n",
    "full_name_list = []\n",
    "\n",
    "for first_name in first_name_list:\n",
    "    full_name_list.append(first_name + \" Johnson\")\n",
    "\n",
    "print(full_name_list)"
   ]
  },
  {
   "cell_type": "markdown",
   "metadata": {},
   "source": [
    "In Python, there's a simpler way to perform the same operation, known as a **list comprehension**. It's sort of like running the for loop inside the construction of our list:\n",
    "```\n",
    "    [ <SOME OPERATION> for <EACH ELEMENT> in <SOME LIST> ]\n",
    "```\n",
    "\n",
    "Here is an example:"
   ]
  },
  {
   "cell_type": "code",
   "execution_count": null,
   "metadata": {},
   "outputs": [],
   "source": [
    "first_name_list = [\"John\", \"Jane\", \"Jack\", \"Judie\"]\n",
    "full_name_list = [first_name + \" Johnson\" for first_name in first_name_list]\n",
    "\n",
    "print(full_name_list)"
   ]
  },
  {
   "cell_type": "markdown",
   "metadata": {},
   "source": [
    "List comprehensions are usually faster than our previous method using `append`. This is because we are not calling a function on the `List` object every time. It might not be noticeable here, but it starts to make a difference on large data sets.\n",
    "\n",
    "You can also perform nested list comprehensions:"
   ]
  },
  {
   "cell_type": "code",
   "execution_count": null,
   "metadata": {},
   "outputs": [],
   "source": [
    "nested_list = [[10, 20, 30], [40, 50, 60], [70, 80, 90]]\n",
    "new_nested_list = [[i // 10 for i in inner_list] for inner_list in nested_list]\n",
    "\n",
    "print(new_nested_list)"
   ]
  },
  {
   "cell_type": "markdown",
   "metadata": {},
   "source": [
    "Note that the double forward slash (`//`) performs **integer** division, unlike the single forward slash, which returns a float.\n",
    "\n",
    "Lastly, you can selectively filter for elements in the new list with the `if` keyword.\n",
    "```\n",
    "    [ <SOME OPERATION> for <EACH ELEMENT> in <SOME LIST> if <CONDITION> ]\n",
    "```\n",
    "\n",
    "You can even perform different operations depending on the value of each element.\n",
    "```\n",
    "    [ <OPERATION 1> if <CONDITION 1> else <OPERATION 2> for <EACH ELEMENT> in <SOME LIST> ]\n",
    "```\n"
   ]
  },
  {
   "cell_type": "code",
   "execution_count": null,
   "metadata": {},
   "outputs": [],
   "source": [
    "lyrics = [\"Hello\", \"it's\", \"me\", \"I\", \"was\", \"wondering\"]\n",
    "\n",
    "# create a list of only words that are capitalized\n",
    "only_capitalized = [word for word in lyrics if word.istitle()]\n",
    "print(only_capitalized)\n",
    "\n",
    "# create a list of words where the first letter of every word is capitalized\n",
    "all_capitalized = [word if word.istitle() else word.capitalize() for word in lyrics]\n",
    "print(all_capitalized)"
   ]
  },
  {
   "cell_type": "markdown",
   "metadata": {},
   "source": [
    "# 16. Functional List Processing\n",
    "\n",
    "Now we will see another way of applying the same operation on every element of a list.\n",
    "\n",
    "## Lambda functions\n",
    "\n",
    "We've been using the `def` keyword to define our Python functions. On the other hand, **lambda functions** are anonymous functions defined using the `lambda` keyword.\n",
    "\n",
    "```\n",
    "    lambda <PARAMETERS> : <EXPRESSION>\n",
    "```\n",
    "\n",
    "We can assign these anonymous functions to variables. For example:"
   ]
  },
  {
   "cell_type": "code",
   "execution_count": null,
   "metadata": {},
   "outputs": [],
   "source": [
    "# a lambda function with one argument\n",
    "greet = lambda name : print(\"Hello, {}\".format(name))\n",
    "greet(\"Jane\")\n",
    "\n",
    "# a lambda function with multiple arguments\n",
    "add = lambda x, y : x + y\n",
    "result = add(5, 4)\n",
    "print(result)"
   ]
  },
  {
   "cell_type": "markdown",
   "metadata": {},
   "source": [
    "Note that lambda functions always return the value that is evaluated in the expression, without the use of the `return` keyword.\n",
    "\n",
    "They should not be used to define functions with very complex operations.\n",
    "\n",
    "Now, we can use lambda functions to help us perform operations on Pandas data structures.\n",
    "\n",
    "## Map\n",
    "\n",
    "The method `map` applies an operation to every element of a given `Series`, and returns a `Series` with the new elements. The one parameter it takes is the function to be applied to each element of the `Series`.\n",
    "\n",
    "For example, here is how we would use the `map` method to convert a list of integers into their string equivalents."
   ]
  },
  {
   "cell_type": "code",
   "execution_count": null,
   "metadata": {},
   "outputs": [],
   "source": [
    "import pandas as pd\n",
    "\n",
    "int_series = pd.Series([1,2,3,4,5])\n",
    "print(int_series)\n",
    "str_series = int_series.map(str)\n",
    "print(str_series)"
   ]
  },
  {
   "cell_type": "markdown",
   "metadata": {},
   "source": [
    "The `str` function, as we've learned, takes one argument. We can similarly define our own lambda function, as long as it takes one argument."
   ]
  },
  {
   "cell_type": "code",
   "execution_count": null,
   "metadata": {},
   "outputs": [],
   "source": [
    "import pandas as pd\n",
    "\n",
    "int_series = pd.Series([1,2,3,4,5])\n",
    "print(int_series)\n",
    "add_10_series = int_series.map(lambda x: x + 10)\n",
    "print(add_10_series)"
   ]
  },
  {
   "cell_type": "markdown",
   "metadata": {},
   "source": [
    "## Filter\n",
    "\n",
    "We can also filter out some rows of a Pandas `DataFrame`."
   ]
  },
  {
   "cell_type": "code",
   "execution_count": null,
   "metadata": {},
   "outputs": [],
   "source": [
    "import pandas as pd\n",
    "\n",
    "rows = [[1, 2, 3], [4, 5, 6]]\n",
    "colnames = ['apple', 'orange', 'pear']\n",
    "rownames = ['red', 'green']\n",
    "my_dataframe = pd.DataFrame(rows, index=rownames, columns=colnames)\n",
    "\n",
    "my_dataframe[my_dataframe.apple > 2]"
   ]
  },
  {
   "cell_type": "markdown",
   "metadata": {},
   "source": [
    "## Groupby\n",
    "\n",
    "Another common operation is to sort the data into bins, or groups, according to a set condition. This is when we use the `groupby` function.\n",
    "\n",
    "The `groupby` function can sort `DataFrame`s in versatile ways. In the example below, we are using a custom function, `sort_by_score`, to do the binning for us.\n",
    "\n",
    "The function returns a `DataFrameGroupBy` object, which is not very useful on its own. This is where we can apply further operations like `count`, `sum`, and `first` to get further statistics about our data.\n",
    "\n",
    "If we wanted to generate a histogram of Rotten Tomatoes ratings, we would use the `count` operation.\n",
    "\n",
    "For more information, [keep reading here](https://pandas.pydata.org/pandas-docs/stable/groupby.html)."
   ]
  },
  {
   "cell_type": "code",
   "execution_count": null,
   "metadata": {},
   "outputs": [],
   "source": [
    "import pandas as pd\n",
    "\n",
    "data = pd.read_csv('fandango_score_comparison.csv')\n",
    "\n",
    "def sort_by_score(film):\n",
    "    score = data['RottenTomatoes'][film]\n",
    "    if 0 <= score <= 20:\n",
    "        return '0-20'\n",
    "    elif 20 < score <= 40:\n",
    "        return '21-40'\n",
    "    elif 40 < score <= 60:\n",
    "        return '41-60'\n",
    "    elif 60 < score <= 80:\n",
    "        return '61-80'\n",
    "    else:\n",
    "        return '81-100'\n",
    "\n",
    "grouped_data = data.groupby(sort_by_score).count()\n",
    "grouped_data['bin'] = grouped_data.index\n",
    "grouped_data"
   ]
  },
  {
   "cell_type": "markdown",
   "metadata": {},
   "source": [
    "## Exercise 16.1\n",
    "\n",
    "Using the grouped data, generate a histogram for Rotten Tomatoes film review scores."
   ]
  },
  {
   "cell_type": "code",
   "execution_count": null,
   "metadata": {},
   "outputs": [],
   "source": [
    "# Solution for Exercise 16.1\n"
   ]
  },
  {
   "cell_type": "markdown",
   "metadata": {},
   "source": [
    "## Exercise 16.2\n",
    "\n",
    "Suppose there are two movies, Movie A with a 97% rating from 146 users, and Movie B with a 94% rating from 2984193 users. Which would you trust to be better?\n",
    "\n",
    "Often, it is important to add *weights* to the data we are trying to represent. Websites like Reddit use the *lower bound of the Wilson score confidence interval for a Bernoulli parameter*. What the heck is that?\n",
    "\n",
    "[First, read this.](http://www.evanmiller.org/how-not-to-sort-by-average-rating.html)\n",
    "\n",
    "Now, use this method to properly rank the movies in our CSV file, in order of significance. To do that, we want both the overall film rating and number of user reviews to factor into the ranking process. To get you started, we've given you a function that computes the statistic from the number of positive votes and the total number of votes. Use the Metacritic ratings."
   ]
  },
  {
   "cell_type": "code",
   "execution_count": null,
   "metadata": {
    "collapsed": true
   },
   "outputs": [],
   "source": [
    "# Solution for Exercise 16.2\n",
    "\n",
    "def confidence(pos, n):\n",
    "    if n == 0:\n",
    "        return 0\n",
    "    z = 1.96\n",
    "    phat = float(pos) / n\n",
    "    return (phat + z*z/(2*n) - z * sqrt((phat*(1-phat)+z*z/(4*n))/n))/(1+z*z/n)\n"
   ]
  },
  {
   "cell_type": "markdown",
   "metadata": {},
   "source": [
    "# 17. Using APIs\n",
    "\n",
    "Now, we will experiment with pulling data from external sources. Many websites provide an API (application programming interface), which users (like us) can query to receive data in a standardized way.\n",
    "\n",
    "The most common way for websites to provide their web API is in the JSON format. The JSON format looks like this:\n",
    "```\n",
    "{\n",
    "    book: {\n",
    "        title: \"Gone With The Wind\",\n",
    "        author: \"Margaret Mitchell\",\n",
    "        reviews: [\n",
    "            {\n",
    "                user_id: 4928930,\n",
    "                rating: 4.5,\n",
    "                text: \"Great book!\"\n",
    "            },\n",
    "            {\n",
    "                user_id: 3947593,\n",
    "                rating: 3.5,\n",
    "                text: \"Harry Potter was better...\"\n",
    "            }\n",
    "        ]\n",
    "    }\n",
    "}\n",
    "```\n",
    "\n",
    "It looks a little similar to a Python dictionary, doesn't it? Like dictionaries, JSON files operate with key/value pairs.\n",
    "\n",
    "## Quandl\n",
    "\n",
    "Normally, we would see what format a particular API returns data, and make sure that Bokeh respects the format when generating a graph. But for now, we will use Quandl, an excellent tool that provides API access to a wealth of financial data worldwide. Quandl makes the whole process of querying and using data from APIs much easier.\n",
    "\n",
    "Start out by going to their [website](http://quandl.com/), and create a free account. Then, go to the page that provides data from the [Tokyo Stock Exchange](https://www.quandl.com/data/TSE-Tokyo-Stock-Exchange). In the search bar, type in \"toyota\". For each result, you will see a Quandl Code. Take a look at the code for Toyota Industries Corp.\n",
    "\n",
    "Now, open your terminal, and type in\n",
    "```\n",
    "    pip install quandl\n",
    "```\n",
    "\n",
    "Done? First, find and copy the API access key for your account. Then, try the following."
   ]
  },
  {
   "cell_type": "code",
   "execution_count": null,
   "metadata": {},
   "outputs": [],
   "source": [
    "import quandl\n",
    "\n",
    "quandl.ApiConfig.api_key = \"YOUR API KEY HERE\"\n",
    "\n",
    "toyota = quandl.get(\"TSE/6201\")\n",
    "toyota.head()"
   ]
  },
  {
   "cell_type": "markdown",
   "metadata": {},
   "source": [
    "Quandl is nice enough to give us the data in Pandas `DataFrame` format. So, displaying it should be a breeze!\n",
    "\n",
    "The data we just pulled was in *Time-Series Format*. Other datasets are in *Datatable* format. For those, use `quandl.get_table`."
   ]
  },
  {
   "cell_type": "code",
   "execution_count": null,
   "metadata": {},
   "outputs": [],
   "source": [
    "import quandl\n",
    "\n",
    "quandl.ApiConfig.api_key = \"YOUR API KEY HERE\"\n",
    "aapl = quandl.get_table(\"WIKI/PRICES\", ticker=\"AAPL\", date={ \"gte\": \"2016-12-31\", \"lte\": \"2017-12-31\"})\n",
    "aapl.head()"
   ]
  },
  {
   "cell_type": "markdown",
   "metadata": {},
   "source": [
    "Notice how we filtered for a specific date range.\n",
    "\n",
    "As always, visit the [documentation](https://www.quandl.com/tools/python) for more functionality."
   ]
  },
  {
   "cell_type": "markdown",
   "metadata": {},
   "source": [
    "## Exercise 17.1\n",
    "\n",
    "Create a Bokeh line graph that plots changes in `TSE/6201`'s high/low prices. There should be two separate plot lines in different colors, one for highs and one for lows."
   ]
  },
  {
   "cell_type": "code",
   "execution_count": null,
   "metadata": {},
   "outputs": [],
   "source": [
    "# Solution for Exercise 17.1\n"
   ]
  },
  {
   "cell_type": "markdown",
   "metadata": {},
   "source": [
    "## Exercise 17.2\n",
    "\n",
    "Now, plot fluctuations in `AAPL` and `GOOGL` open prices on the same chart, and use different colors."
   ]
  },
  {
   "cell_type": "code",
   "execution_count": null,
   "metadata": {},
   "outputs": [],
   "source": [
    "# Solution for Exercise 17.2\n"
   ]
  },
  {
   "cell_type": "markdown",
   "metadata": {},
   "source": [
    "## Exercise 17.3\n",
    "\n",
    "Now, normalize the scales of `AAPL` and `GOOGL` open prices to a 0-1 range, and display the same graph. You can use the `log` method of the `math` module for this purpose."
   ]
  },
  {
   "cell_type": "code",
   "execution_count": null,
   "metadata": {},
   "outputs": [],
   "source": [
    "# Solution for Exercise 17.3\n",
    "\n",
    "import math\n"
   ]
  },
  {
   "cell_type": "markdown",
   "metadata": {},
   "source": [
    "## Exercise 17.4\n",
    "\n",
    "Now, let's use some real estate data provided by Zillow. [Navigate to the dataset](https://www.quandl.com/data/ZILLOW-Zillow-Real-Estate-Research). Read the documentation and familiarize yourself with the format they expect you to query with.\n",
    "\n",
    "Now, create a simple program that graphs changes in the `Home Value Index (Zip)`, specifically the `Inventory Measure (Public)` indicator, for a user-inputted zip code.\n",
    "\n",
    "For example, a user should be able to type in the zip code `90210` to display the information for Beverly Hills, CA.\n",
    "\n",
    "**Challenge:** Can you make the program notify the user if data is unavailable for the zipcode?"
   ]
  },
  {
   "cell_type": "code",
   "execution_count": null,
   "metadata": {},
   "outputs": [],
   "source": [
    "# Solution for Exercise 17.4\n"
   ]
  },
  {
   "cell_type": "markdown",
   "metadata": {},
   "source": [
    "# For next week\n",
    "\n",
    "Starting next week, we will learn about more advanced topics that will help you on your final projects. In the meantime:\n",
    "\n",
    "* **Review:** We covered a lot of material. Do you remember everything? Now that we know more techniques, can you solve some of our past exercises in simpler ways?\n",
    "* **Explore:** This course aims to equip you with the basic toolsets needed to get started with data processing in Python. However, _it is by no means comprehensive_. Please use this week to explore the Bokeh, Pandas, and Quandl APIs. Have some data in Quandl you think would be cool to visualize? Try it out! Come back with questions."
   ]
  }
 ],
 "metadata": {
  "kernelspec": {
   "display_name": "Python 3",
   "language": "python",
   "name": "python3"
  },
  "language_info": {
   "codemirror_mode": {
    "name": "ipython",
    "version": 3
   },
   "file_extension": ".py",
   "mimetype": "text/x-python",
   "name": "python",
   "nbconvert_exporter": "python",
   "pygments_lexer": "ipython3",
   "version": "3.7.0"
  }
 },
 "nbformat": 4,
 "nbformat_minor": 2
}
